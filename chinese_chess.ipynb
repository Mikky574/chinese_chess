{
 "cells": [
  {
   "cell_type": "code",
   "execution_count": null,
   "id": "38489331",
   "metadata": {},
   "outputs": [],
   "source": [
    "# 说明：图片素材来源（https://github.com/mm12432/MyChess.git）"
   ]
  },
  {
   "cell_type": "code",
   "execution_count": 1,
   "id": "873c62f1",
   "metadata": {},
   "outputs": [
    {
     "data": {
      "text/plain": [
       "array([[0, 0, 0, 0, 0, 0, 0, 0, 0],\n",
       "       [0, 0, 0, 0, 0, 0, 0, 0, 0],\n",
       "       [0, 0, 0, 0, 0, 0, 0, 0, 0],\n",
       "       [0, 0, 0, 0, 0, 0, 0, 0, 0],\n",
       "       [0, 0, 0, 0, 0, 0, 0, 0, 0],\n",
       "       [0, 0, 0, 0, 0, 0, 0, 0, 0],\n",
       "       [0, 0, 0, 0, 0, 0, 0, 0, 0],\n",
       "       [0, 0, 0, 0, 0, 0, 0, 0, 0],\n",
       "       [0, 0, 0, 0, 0, 0, 0, 0, 0],\n",
       "       [0, 0, 0, 0, 0, 0, 0, 0, 0]], dtype=uint8)"
      ]
     },
     "execution_count": 1,
     "metadata": {},
     "output_type": "execute_result"
    }
   ],
   "source": [
    "import numpy as np\n",
    "\n",
    "# 10 * 9 的矩阵\n",
    "\n",
    "chessboard_matrix = np.zeros((10, 9), dtype=np.uint8)\n",
    "chessboard_matrix"
   ]
  },
  {
   "cell_type": "code",
   "execution_count": 4,
   "id": "f4ae14d2",
   "metadata": {},
   "outputs": [
    {
     "data": {
      "text/plain": [
       "array([[1, 2, 3, 4, 5, 4, 3, 2, 1],\n",
       "       [0, 0, 0, 0, 0, 0, 0, 0, 0],\n",
       "       [0, 6, 0, 0, 0, 0, 0, 6, 0],\n",
       "       [7, 0, 7, 0, 7, 0, 7, 0, 7],\n",
       "       [0, 0, 0, 0, 0, 0, 0, 0, 0],\n",
       "       [0, 0, 0, 0, 0, 0, 0, 0, 0],\n",
       "       [7, 0, 7, 0, 7, 0, 7, 0, 7],\n",
       "       [0, 6, 0, 0, 0, 0, 0, 6, 0],\n",
       "       [0, 0, 0, 0, 0, 0, 0, 0, 0],\n",
       "       [1, 2, 3, 4, 5, 4, 3, 2, 1]], dtype=uint8)"
      ]
     },
     "execution_count": 4,
     "metadata": {},
     "output_type": "execute_result"
    }
   ],
   "source": [
    "# 建立映射字典\n",
    "\n",
    "chessname_dict={\n",
    "    \"车\":1,\n",
    "    \"马\":2,\n",
    "    \"象\":3,\n",
    "    \"士\":4,\n",
    "    \"将\":5,\n",
    "    \"炮\":6,\n",
    "    \"卒\":7\n",
    "}# 0 留着填充用\n",
    "\n",
    "def clean_board(chessboard_matrix):\n",
    "    chessboard_matrix*=0 # 自乘以0，快速归0\n",
    "    return chessboard_matrix\n",
    "\n",
    "def set_chess(chessboard_matrix,player):\n",
    "    #摆好初始棋盘\n",
    "    assert player in [\"red\",\"black\"]\n",
    "    # 黑棋正数，红棋反数\n",
    "    if player==\"red\":\n",
    "        idx=0\n",
    "    elif player==\"black\":\n",
    "        idx=-1\n",
    "    for i in range(9): #摆第一行\n",
    "        if i<5:\n",
    "            chessboard_matrix[idx][i]=i+1\n",
    "        else:\n",
    "            chessboard_matrix[idx][i]=9-i\n",
    "    \n",
    "    #摆两个炮\n",
    "    col=int(idx+2*(idx)**(idx))\n",
    "    chessboard_matrix[col][1]=6\n",
    "    chessboard_matrix[col][7]=6\n",
    "    #摆五个卒\n",
    "\n",
    "    col=int(idx+3*(idx)**(idx))\n",
    "    for i in range(5):\n",
    "        chessboard_matrix[col][2*i]=7\n",
    "    return chessboard_matrix\n",
    "\n",
    "chessboard_matrix = np.zeros((10, 9), dtype=np.uint8)\n",
    "clean_board(chessboard_matrix)\n",
    "set_chess(chessboard_matrix,\"red\")\n",
    "set_chess(chessboard_matrix,\"black\")\n",
    "chessboard_matrix"
   ]
  },
  {
   "cell_type": "code",
   "execution_count": null,
   "id": "775d0e87",
   "metadata": {},
   "outputs": [],
   "source": []
  },
  {
   "cell_type": "code",
   "execution_count": null,
   "id": "1b6c6f29",
   "metadata": {},
   "outputs": [],
   "source": []
  },
  {
   "cell_type": "code",
   "execution_count": null,
   "id": "699e5508",
   "metadata": {},
   "outputs": [],
   "source": []
  },
  {
   "cell_type": "code",
   "execution_count": null,
   "id": "10a387d0",
   "metadata": {},
   "outputs": [],
   "source": []
  },
  {
   "cell_type": "code",
   "execution_count": null,
   "id": "562adc0b",
   "metadata": {},
   "outputs": [],
   "source": []
  },
  {
   "cell_type": "code",
   "execution_count": null,
   "id": "21b639d3",
   "metadata": {},
   "outputs": [],
   "source": []
  }
 ],
 "metadata": {
  "kernelspec": {
   "display_name": "Python 3 (ipykernel)",
   "language": "python",
   "name": "python3"
  },
  "language_info": {
   "codemirror_mode": {
    "name": "ipython",
    "version": 3
   },
   "file_extension": ".py",
   "mimetype": "text/x-python",
   "name": "python",
   "nbconvert_exporter": "python",
   "pygments_lexer": "ipython3",
   "version": "3.10.9"
  }
 },
 "nbformat": 4,
 "nbformat_minor": 5
}
